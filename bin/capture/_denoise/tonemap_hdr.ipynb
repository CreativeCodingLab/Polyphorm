{
 "cells": [
  {
   "cell_type": "code",
   "execution_count": null,
   "metadata": {},
   "outputs": [],
   "source": [
    "import numpy as np\n",
    "import imageio as iio\n",
    "import matplotlib.pyplot as plt\n",
    "import taichi as ti\n",
    "ti.init(arch=ti.gpu)\n",
    "GUI_DOWNSCALING_FACTOR = 1.0\n",
    "ZOOM_WIDTH = 200.0"
   ]
  },
  {
   "cell_type": "code",
   "execution_count": null,
   "metadata": {},
   "outputs": [],
   "source": [
    "# FILENAME = 'B0_dn'\n",
    "# FILENAME = 'B1_dn'\n",
    "# FILENAME = 'B2_dn'\n",
    "# FILENAME = 'B3_dn'\n",
    "# FILENAME = 'T0_dn'\n",
    "# FILENAME = 'T1_dn'\n",
    "# FILENAME = 'T2_dn'\n",
    "# FILENAME = 'T3_dn'\n",
    "\n",
    "FILENAME = 'frame25'\n",
    "\n",
    "image = iio.imread(FILENAME + '.pfm', format='PFM-FI')\n",
    "image.shape, image.dtype"
   ]
  },
  {
   "cell_type": "code",
   "execution_count": null,
   "metadata": {},
   "outputs": [],
   "source": [
    "image_grid = ti.field(dtype=ti.f32, shape=image.shape)\n",
    "image_grid_downsampled = ti.field(dtype=ti.f32,\\\n",
    "    shape=(int(image.shape[1]/GUI_DOWNSCALING_FACTOR), int(image.shape[0]/GUI_DOWNSCALING_FACTOR), image.shape[2]))\n",
    "igaussian_grid_A = ti.field(dtype=ti.f32, shape=image.shape)\n",
    "igaussian_grid_B = ti.field(dtype=ti.f32, shape=image.shape)"
   ]
  },
  {
   "cell_type": "code",
   "execution_count": null,
   "metadata": {},
   "outputs": [],
   "source": [
    "@ti.kernel\n",
    "def copy(dst: ti.template(), src: ti.template()):\n",
    "    for p in ti.grouped(dst):\n",
    "        dst[p] = src[p]\n",
    "\n",
    "@ti.kernel\n",
    "def tonemap_hdr(exposure: ti.f32, gamma: ti.f32, i_red: ti.f32, i_green: ti.f32, i_blue: ti.f32):\n",
    "    for x, y in ti.ndrange(image_grid.shape[0], image_grid.shape[1]):\n",
    "        image_grid[x, y, 0] = (1.0 - ti.exp(-exposure * i_red   * image_grid[x, y, 0])) ** (1.0/gamma)\n",
    "        image_grid[x, y, 1] = (1.0 - ti.exp(-exposure * i_green * image_grid[x, y, 1])) ** (1.0/gamma)\n",
    "        image_grid[x, y, 2] = (1.0 - ti.exp(-exposure * i_blue  * image_grid[x, y, 2])) ** (1.0/gamma)\n",
    "        \n",
    "KERNEL = [5.0, 1.0, 1.0/1.41]\n",
    "KERNEL_NORM = KERNEL[0] + 4.0 * KERNEL[1] + 4.0 * KERNEL[2]\n",
    "\n",
    "@ti.kernel\n",
    "def incremental_blur():\n",
    "    for x, y, ch in igaussian_grid_B:\n",
    "        value = KERNEL[0] * igaussian_grid_A[x, y, ch]\\\n",
    "              + KERNEL[1] * igaussian_grid_A[x-1, y, ch]\\\n",
    "              + KERNEL[1] * igaussian_grid_A[x+1, y, ch]\\\n",
    "              + KERNEL[1] * igaussian_grid_A[x, y-1, ch]\\\n",
    "              + KERNEL[1] * igaussian_grid_A[x, y+1, ch]\\\n",
    "              + KERNEL[2] * igaussian_grid_A[x-1, y-1, ch]\\\n",
    "              + KERNEL[2] * igaussian_grid_A[x+1, y+1, ch]\\\n",
    "              + KERNEL[2] * igaussian_grid_A[x+1, y-1, ch]\\\n",
    "              + KERNEL[2] * igaussian_grid_A[x-1, y+1, ch]\n",
    "        igaussian_grid_B[x, y, ch] = value / KERNEL_NORM\n",
    "    for x, y, ch in igaussian_grid_A:\n",
    "        value = KERNEL[0] * igaussian_grid_B[x, y, ch]\\\n",
    "              + KERNEL[1] * igaussian_grid_B[x-1, y, ch]\\\n",
    "              + KERNEL[1] * igaussian_grid_B[x+1, y, ch]\\\n",
    "              + KERNEL[1] * igaussian_grid_B[x, y-1, ch]\\\n",
    "              + KERNEL[1] * igaussian_grid_B[x, y+1, ch]\\\n",
    "              + KERNEL[2] * igaussian_grid_B[x-1, y-1, ch]\\\n",
    "              + KERNEL[2] * igaussian_grid_B[x+1, y+1, ch]\\\n",
    "              + KERNEL[2] * igaussian_grid_B[x+1, y-1, ch]\\\n",
    "              + KERNEL[2] * igaussian_grid_B[x-1, y+1, ch]\n",
    "        igaussian_grid_A[x, y, ch] = value / KERNEL_NORM\n",
    "        \n",
    "@ti.kernel\n",
    "def unsharp_compose(intensity: ti.f32):\n",
    "    for x, y, ch in image_grid:\n",
    "        base = image_grid[x, y, ch]\n",
    "        blurred = igaussian_grid_A[x, y, ch]\n",
    "        image_grid[x, y, ch] = max(0.0, min(base + intensity * (base - blurred), 1.0))\n",
    "        \n",
    "@ti.kernel\n",
    "def img_downsample():\n",
    "    for x, y, ch in image_grid_downsampled:\n",
    "        image_grid_downsampled[x, y, ch] = image_grid[int((image_grid.shape[0]-GUI_DOWNSCALING_FACTOR*y)), int(GUI_DOWNSCALING_FACTOR*x), ch]\n",
    "        \n",
    "@ti.kernel\n",
    "def img_downsample_with_zoom(zoom_x: ti.f32, zoom_y: ti.f32, zoom_r: ti.f32):\n",
    "    for x, y, ch in image_grid_downsampled:\n",
    "        if x > zoom_x - zoom_r and x < zoom_x + zoom_r and y > zoom_y - zoom_r and y < zoom_y + zoom_r:\n",
    "            image_grid_downsampled[x, y, ch] = image_grid[\\\n",
    "                            int(image_grid.shape[0]-GUI_DOWNSCALING_FACTOR*zoom_y) - (y-zoom_y),\\\n",
    "                            int(GUI_DOWNSCALING_FACTOR*zoom_x) - (zoom_x - x), ch]\n",
    "        else:\n",
    "            image_grid_downsampled[x, y, ch] = image_grid[int((image_grid.shape[0]-GUI_DOWNSCALING_FACTOR*y)), int(GUI_DOWNSCALING_FACTOR*x), ch]"
   ]
  },
  {
   "cell_type": "code",
   "execution_count": null,
   "metadata": {
    "scrolled": false
   },
   "outputs": [],
   "source": [
    "gui = ti.GUI('Tonemap HDR', (image_grid_downsampled.shape[0], image_grid_downsampled.shape[1]))\n",
    "exposure = gui.slider('exposure', 0.0, 10.0, 0.01); exposure.value = 2.0 # 2.55\n",
    "gamma = gui.slider('gamma', 0.1, 5.0, 0.01); gamma.value = 1.6 # 1.55\n",
    "scale = gui.slider('unsharp scale', 0.0, 30.0, 1.0); scale.value = 8.0\n",
    "sharpness = gui.slider('unsharp intensity', 0.0, 2.0, 0.01); sharpness.value = 0.3\n",
    "i_red = gui.slider('I-red', 0.0, 2.0, 0.01); i_red.value = 1.1\n",
    "i_green = gui.slider('I-green', 0.0, 2.0, 0.01); i_green.value = 1.05\n",
    "i_blue = gui.slider('I-blue', 0.0, 2.0, 0.01); i_blue.value = 1.0\n",
    "while gui.running:\n",
    "    do_zoom = False\n",
    "    do_mega_zoom = False\n",
    "    zoom_x, zoom_y = gui.get_cursor_pos()\n",
    "    gui.get_event()\n",
    "    if gui.is_pressed(ti.GUI.RMB):\n",
    "        do_zoom = True\n",
    "        zoom_x, zoom_y = gui.get_cursor_pos()\n",
    "    if gui.is_pressed(ti.GUI.MMB):\n",
    "        do_mega_zoom = True\n",
    "\n",
    "    image_grid.from_numpy(image)\n",
    "    tonemap_hdr(exposure.value, gamma.value, i_red.value, i_green.value, i_blue.value)\n",
    "    \n",
    "    copy(igaussian_grid_A, image_grid)\n",
    "    for n in range(int(scale.value)):\n",
    "        incremental_blur()\n",
    "    unsharp_compose(sharpness.value)\n",
    "    \n",
    "    if do_zoom:\n",
    "        img_downsample_with_zoom(\\\n",
    "                int(zoom_x * image_grid_downsampled.shape[0]),\\\n",
    "                int(zoom_y * image_grid_downsampled.shape[1]), ZOOM_WIDTH)\n",
    "    elif do_mega_zoom:\n",
    "        img_downsample_with_zoom(\\\n",
    "                int(zoom_x * image_grid_downsampled.shape[0]),\\\n",
    "                int(zoom_y * image_grid_downsampled.shape[1]), 5.0 * ZOOM_WIDTH)\n",
    "    else:\n",
    "        img_downsample()\n",
    "\n",
    "    gui.set_image(image_grid_downsampled)\n",
    "    gui.show();"
   ]
  },
  {
   "cell_type": "code",
   "execution_count": null,
   "metadata": {},
   "outputs": [],
   "source": [
    "image_final = image_grid.to_numpy()\n",
    "plt.figure(figsize = (10.0, 10.0))\n",
    "plt.imshow(image_final);"
   ]
  },
  {
   "cell_type": "code",
   "execution_count": null,
   "metadata": {},
   "outputs": [],
   "source": [
    "iio.imwrite(FILENAME + '.exr', image_final, format='EXR-FI')\n",
    "image_final_LDR = 255.0 * image_final\n",
    "iio.imwrite(FILENAME + '.png', image_final_LDR.astype(np.uint8), format='PNG-FI')"
   ]
  },
  {
   "cell_type": "code",
   "execution_count": null,
   "metadata": {},
   "outputs": [],
   "source": []
  }
 ],
 "metadata": {
  "kernelspec": {
   "display_name": "Python 3",
   "language": "python",
   "name": "python3"
  },
  "language_info": {
   "codemirror_mode": {
    "name": "ipython",
    "version": 3
   },
   "file_extension": ".py",
   "mimetype": "text/x-python",
   "name": "python",
   "nbconvert_exporter": "python",
   "pygments_lexer": "ipython3",
   "version": "3.6.12"
  }
 },
 "nbformat": 4,
 "nbformat_minor": 2
}
