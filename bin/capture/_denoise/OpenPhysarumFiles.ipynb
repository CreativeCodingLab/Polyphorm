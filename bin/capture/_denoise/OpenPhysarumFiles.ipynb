{
 "cells": [
  {
   "cell_type": "code",
   "execution_count": 4,
   "metadata": {},
   "outputs": [
    {
     "data": {
      "application/vnd.jupyter.widget-view+json": {
       "model_id": "9c3bf707e0af4e59adfe02ce3a4cab7f",
       "version_major": 2,
       "version_minor": 0
      },
      "text/plain": [
       "interactive(children=(IntSlider(value=327, description='slice', max=655), IntSlider(value=0, description='chan…"
      ]
     },
     "metadata": {},
     "output_type": "display_data"
    }
   ],
   "source": [
    "import numpy as np\n",
    "import matplotlib.pyplot as plt\n",
    "from ipywidgets import interact\n",
    "\n",
    "# Source and the X/Y/Z resolution of the data\n",
    "DATA_FILE = 'trace.bin'\n",
    "BRICK_SIZE = [656,1200,680]\n",
    "N_CHANNELS = 1\n",
    "\n",
    "# Load raw dataset from HDD\n",
    "raw_data = np.fromfile(DATA_FILE, dtype=np.float16)\n",
    "\n",
    "# Reshape and convert data to suitable formats\n",
    "voxels_f16 = raw_data.reshape((BRICK_SIZE[2], BRICK_SIZE[1], BRICK_SIZE[0], N_CHANNELS)) # Mind the order of dimensions\n",
    "voxels_u8 = voxels_f16.astype(np.uint8)\n",
    "\n",
    "# Visualize a single slice of the voxel data\n",
    "GAMMA = 0.2\n",
    "FIGSIZE = 10.0\n",
    "def plot_voxels_slice(slice, channel):\n",
    "    plt.figure(figsize = (FIGSIZE, FIGSIZE))\n",
    "    plt.imshow(voxels_u8[:,:,slice,channel] ** GAMMA)\n",
    "interact(plot_voxels_slice, slice=(0, BRICK_SIZE[0]-1, 1), channel=(0, N_CHANNELS-1, 1));"
   ]
  },
  {
   "cell_type": "code",
   "execution_count": null,
   "metadata": {},
   "outputs": [],
   "source": []
  }
 ],
 "metadata": {
  "kernelspec": {
   "display_name": "Python 3",
   "language": "python",
   "name": "python3"
  },
  "language_info": {
   "codemirror_mode": {
    "name": "ipython",
    "version": 3
   },
   "file_extension": ".py",
   "mimetype": "text/x-python",
   "name": "python",
   "nbconvert_exporter": "python",
   "pygments_lexer": "ipython3",
   "version": "3.6.12"
  }
 },
 "nbformat": 4,
 "nbformat_minor": 2
}
