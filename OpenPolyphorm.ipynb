{
  "cells": [
    {
      "cell_type": "markdown",
      "metadata": {
        "id": "view-in-github",
        "colab_type": "text"
      },
      "source": [
        "<a href=\"https://colab.research.google.com/github/CreativeCodingLab/Polyphorm/blob/master/OpenPolyphorm.ipynb\" target=\"_parent\"><img src=\"https://colab.research.google.com/assets/colab-badge.svg\" alt=\"Open In Colab\"/></a>"
      ]
    },
    {
      "cell_type": "code",
      "execution_count": null,
      "metadata": {
        "id": "G3XLl8CHiUJV"
      },
      "outputs": [],
      "source": [
        "import numpy as np\n",
        "import matplotlib.pyplot as plt\n",
        "from ipywidgets import interact # For plotting\n",
        "\n",
        "# Source and dimensions of the data\n",
        "DATA_FILE = 'trace.bin'\n",
        "BRICK_SIZE = [1024, 784, 416] # Look up the grid resolution in the metadata file exported by Polyphorm\n",
        "N_CHANNELS = 1\n",
        "\n",
        "# Other settings\n",
        "VIS_GAMMA = 0.2\n",
        "FIGSIZE = 10.0\n",
        "\n",
        "# Load raw dataset from HDD\n",
        "raw_data = np.fromfile(DATA_FILE, dtype=np.float16)"
      ]
    },
    {
      "cell_type": "code",
      "source": [
        "# Reshape and convert data to suitable format for visualization\n",
        "voxels_f16 = raw_data.reshape((BRICK_SIZE[2], BRICK_SIZE[1], BRICK_SIZE[0], N_CHANNELS)) # Mind the order of dimensions\n",
        "voxels_u8 = voxels_f16.astype(np.uint8) ** VIS_GAMMA\n",
        "\n",
        "# Visualize a single slice of the voxel data\n",
        "def plot_voxels_slice(slice, channel):\n",
        "    plt.figure(figsize = (FIGSIZE, FIGSIZE))\n",
        "    plt.imshow(voxels_u8[:,:,slice,channel])\n",
        "interact(plot_voxels_slice, slice=(0, BRICK_SIZE[0]-1, 1), channel=(0, N_CHANNELS-1, 1));"
      ],
      "metadata": {
        "id": "sMNQFl-6i6My"
      },
      "execution_count": null,
      "outputs": []
    },
    {
      "cell_type": "code",
      "execution_count": null,
      "metadata": {
        "id": "ICT9URmmiUJf"
      },
      "outputs": [],
      "source": [
        "# Threshold the data from below\n",
        "THRESHOLD = 5.0\n",
        "voxels_f16_thresholded = np.fmax(voxels_f16 - THRESHOLD, 0.0)\n",
        "voxels_u8_thresholded = voxels_f16_thresholded.astype(np.uint8) ** VIS_GAMMA\n",
        "\n",
        "def plot_voxels_slice_2(slice, channel):\n",
        "    plt.figure(figsize = (FIGSIZE, FIGSIZE))\n",
        "    plt.imshow(voxels_u8_thresholded[:,:,slice,channel])\n",
        "interact(plot_voxels_slice_2, slice=(0, BRICK_SIZE[0]-1, 1), channel=(0, N_CHANNELS-1, 1));"
      ]
    }
  ],
  "metadata": {
    "kernelspec": {
      "display_name": "Python 3",
      "language": "python",
      "name": "python3"
    },
    "language_info": {
      "codemirror_mode": {
        "name": "ipython",
        "version": 3
      },
      "file_extension": ".py",
      "mimetype": "text/x-python",
      "name": "python",
      "nbconvert_exporter": "python",
      "pygments_lexer": "ipython3",
      "version": "3.7.0"
    },
    "colab": {
      "name": "OpenPolyphorm.ipynb",
      "provenance": [],
      "collapsed_sections": [],
      "include_colab_link": true
    }
  },
  "nbformat": 4,
  "nbformat_minor": 0
}